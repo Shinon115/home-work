{
  "nbformat": 4,
  "nbformat_minor": 0,
  "metadata": {
    "colab": {
      "provenance": []
    },
    "kernelspec": {
      "name": "python3",
      "display_name": "Python 3"
    },
    "language_info": {
      "name": "python"
    }
  },
  "cells": [
    {
      "cell_type": "code",
      "execution_count": null,
      "metadata": {
        "id": "8rcF6a1ksVoy"
      },
      "outputs": [],
      "source": [
        "def shichi_go_san(age, gender):\n",
        "    if age == 3 and gender == \"girl\":\n",
        "        return \"3歳のお祝いです！\"\n",
        "    elif age == 5 and gender == \"boy\":\n",
        "        return \"5歳のお祝いです！\"\n",
        "    elif age == 7 and gender == \"girl\":\n",
        "        return \"7歳のお祝いです！\"\n",
        "    else:\n",
        "        return \"お祝いはありません。\"\n",
        "\n",
        "# 使用例\n",
        "age = int(input(\"年齢を入力してください: \"))\n",
        "gender = input(\"性別を入力してください (boy/girl): \").lower()\n",
        "\n",
        "print(shichi_go_san(age, gender))"
      ]
    }
  ]
}